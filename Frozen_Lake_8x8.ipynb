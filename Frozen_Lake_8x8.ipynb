{
  "nbformat": 4,
  "nbformat_minor": 0,
  "metadata": {
    "colab": {
      "name": "Frozen_Lake_8x8.ipynb",
      "provenance": [],
      "authorship_tag": "ABX9TyOy7KoJsKdr0RbN35lFKvzT",
      "include_colab_link": true
    },
    "kernelspec": {
      "display_name": "Python 3",
      "name": "python3"
    }
  },
  "cells": [
    {
      "cell_type": "markdown",
      "metadata": {
        "id": "view-in-github",
        "colab_type": "text"
      },
      "source": [
        "<a href=\"https://colab.research.google.com/github/rethfor/Modified-Frozen-Lake-8x8/blob/main/Frozen_Lake_8x8.ipynb\" target=\"_parent\"><img src=\"https://colab.research.google.com/assets/colab-badge.svg\" alt=\"Open In Colab\"/></a>"
      ]
    },
    {
      "cell_type": "code",
      "metadata": {
        "id": "Uc76CU_f83nL",
        "colab": {
          "base_uri": "https://localhost:8080/"
        },
        "outputId": "e748fa0d-87f7-4aae-df5d-7e0d712f93cc"
      },
      "source": [
        "!pip install gym\n",
        "!apt-get install python-opengl -y\n",
        "!apt install xvfb -y\n",
        "!pip install gym[atari]\n",
        "!pip install pyvirtualdisplay\n",
        "!pip install piglet\n",
        "from pyvirtualdisplay import Display\n",
        "display = Display(visible=0, size=(1400, 900))\n",
        "display.start()"
      ],
      "execution_count": 1,
      "outputs": [
        {
          "output_type": "stream",
          "text": [
            "Requirement already satisfied: gym in /usr/local/lib/python3.6/dist-packages (0.17.3)\n",
            "Requirement already satisfied: scipy in /usr/local/lib/python3.6/dist-packages (from gym) (1.4.1)\n",
            "Requirement already satisfied: pyglet<=1.5.0,>=1.4.0 in /usr/local/lib/python3.6/dist-packages (from gym) (1.5.0)\n",
            "Requirement already satisfied: cloudpickle<1.7.0,>=1.2.0 in /usr/local/lib/python3.6/dist-packages (from gym) (1.3.0)\n",
            "Requirement already satisfied: numpy>=1.10.4 in /usr/local/lib/python3.6/dist-packages (from gym) (1.19.5)\n",
            "Requirement already satisfied: future in /usr/local/lib/python3.6/dist-packages (from pyglet<=1.5.0,>=1.4.0->gym) (0.16.0)\n",
            "Reading package lists... Done\n",
            "Building dependency tree       \n",
            "Reading state information... Done\n",
            "Suggested packages:\n",
            "  libgle3\n",
            "The following NEW packages will be installed:\n",
            "  python-opengl\n",
            "0 upgraded, 1 newly installed, 0 to remove and 13 not upgraded.\n",
            "Need to get 496 kB of archives.\n",
            "After this operation, 5,416 kB of additional disk space will be used.\n",
            "Get:1 http://archive.ubuntu.com/ubuntu bionic/universe amd64 python-opengl all 3.1.0+dfsg-1 [496 kB]\n",
            "Fetched 496 kB in 1s (440 kB/s)\n",
            "Selecting previously unselected package python-opengl.\n",
            "(Reading database ... 146374 files and directories currently installed.)\n",
            "Preparing to unpack .../python-opengl_3.1.0+dfsg-1_all.deb ...\n",
            "Unpacking python-opengl (3.1.0+dfsg-1) ...\n",
            "Setting up python-opengl (3.1.0+dfsg-1) ...\n",
            "Reading package lists... Done\n",
            "Building dependency tree       \n",
            "Reading state information... Done\n",
            "The following NEW packages will be installed:\n",
            "  xvfb\n",
            "0 upgraded, 1 newly installed, 0 to remove and 13 not upgraded.\n",
            "Need to get 784 kB of archives.\n",
            "After this operation, 2,270 kB of additional disk space will be used.\n",
            "Get:1 http://archive.ubuntu.com/ubuntu bionic-updates/universe amd64 xvfb amd64 2:1.19.6-1ubuntu4.8 [784 kB]\n",
            "Fetched 784 kB in 1s (702 kB/s)\n",
            "Selecting previously unselected package xvfb.\n",
            "(Reading database ... 148729 files and directories currently installed.)\n",
            "Preparing to unpack .../xvfb_2%3a1.19.6-1ubuntu4.8_amd64.deb ...\n",
            "Unpacking xvfb (2:1.19.6-1ubuntu4.8) ...\n",
            "Setting up xvfb (2:1.19.6-1ubuntu4.8) ...\n",
            "Processing triggers for man-db (2.8.3-2ubuntu0.1) ...\n",
            "Requirement already satisfied: gym[atari] in /usr/local/lib/python3.6/dist-packages (0.17.3)\n",
            "Requirement already satisfied: numpy>=1.10.4 in /usr/local/lib/python3.6/dist-packages (from gym[atari]) (1.19.5)\n",
            "Requirement already satisfied: scipy in /usr/local/lib/python3.6/dist-packages (from gym[atari]) (1.4.1)\n",
            "Requirement already satisfied: cloudpickle<1.7.0,>=1.2.0 in /usr/local/lib/python3.6/dist-packages (from gym[atari]) (1.3.0)\n",
            "Requirement already satisfied: pyglet<=1.5.0,>=1.4.0 in /usr/local/lib/python3.6/dist-packages (from gym[atari]) (1.5.0)\n",
            "Requirement already satisfied: atari-py~=0.2.0; extra == \"atari\" in /usr/local/lib/python3.6/dist-packages (from gym[atari]) (0.2.6)\n",
            "Requirement already satisfied: opencv-python; extra == \"atari\" in /usr/local/lib/python3.6/dist-packages (from gym[atari]) (4.1.2.30)\n",
            "Requirement already satisfied: Pillow; extra == \"atari\" in /usr/local/lib/python3.6/dist-packages (from gym[atari]) (7.0.0)\n",
            "Requirement already satisfied: future in /usr/local/lib/python3.6/dist-packages (from pyglet<=1.5.0,>=1.4.0->gym[atari]) (0.16.0)\n",
            "Requirement already satisfied: six in /usr/local/lib/python3.6/dist-packages (from atari-py~=0.2.0; extra == \"atari\"->gym[atari]) (1.15.0)\n",
            "Collecting pyvirtualdisplay\n",
            "  Downloading https://files.pythonhosted.org/packages/ad/05/6568620fed440941b704664b9cfe5f836ad699ac7694745e7787fbdc8063/PyVirtualDisplay-2.0-py2.py3-none-any.whl\n",
            "Collecting EasyProcess\n",
            "  Downloading https://files.pythonhosted.org/packages/48/3c/75573613641c90c6d094059ac28adb748560d99bd27ee6f80cce398f404e/EasyProcess-0.3-py2.py3-none-any.whl\n",
            "Installing collected packages: EasyProcess, pyvirtualdisplay\n",
            "Successfully installed EasyProcess-0.3 pyvirtualdisplay-2.0\n",
            "Collecting piglet\n",
            "  Downloading https://files.pythonhosted.org/packages/11/56/6840e5f45626dc7eb7cd5dff57d11880b3113723b3b7b1fb1fa537855b75/piglet-1.0.0-py2.py3-none-any.whl\n",
            "Collecting piglet-templates\n",
            "\u001b[?25l  Downloading https://files.pythonhosted.org/packages/34/1e/49d7e0df9420eeb13a636487b8e606cf099f2ee0793159edd8ffe905125b/piglet_templates-1.1.0-py3-none-any.whl (63kB)\n",
            "\u001b[K     |████████████████████████████████| 71kB 2.9MB/s \n",
            "\u001b[?25hRequirement already satisfied: markupsafe in /usr/local/lib/python3.6/dist-packages (from piglet-templates->piglet) (1.1.1)\n",
            "Requirement already satisfied: astunparse in /usr/local/lib/python3.6/dist-packages (from piglet-templates->piglet) (1.6.3)\n",
            "Collecting Parsley\n",
            "\u001b[?25l  Downloading https://files.pythonhosted.org/packages/2b/d6/4fed8d65e28a970e1c5cb33ce9c7e22e3de745e1b2ae37af051ef16aea3b/Parsley-1.3-py2.py3-none-any.whl (88kB)\n",
            "\u001b[K     |████████████████████████████████| 92kB 4.8MB/s \n",
            "\u001b[?25hRequirement already satisfied: attrs in /usr/local/lib/python3.6/dist-packages (from piglet-templates->piglet) (20.3.0)\n",
            "Requirement already satisfied: wheel<1.0,>=0.23.0 in /usr/local/lib/python3.6/dist-packages (from astunparse->piglet-templates->piglet) (0.36.2)\n",
            "Requirement already satisfied: six<2.0,>=1.6.1 in /usr/local/lib/python3.6/dist-packages (from astunparse->piglet-templates->piglet) (1.15.0)\n",
            "Installing collected packages: Parsley, piglet-templates, piglet\n",
            "Successfully installed Parsley-1.3 piglet-1.0.0 piglet-templates-1.1.0\n"
          ],
          "name": "stdout"
        },
        {
          "output_type": "execute_result",
          "data": {
            "text/plain": [
              "<pyvirtualdisplay.display.Display at 0x7f31e17cfd68>"
            ]
          },
          "metadata": {
            "tags": []
          },
          "execution_count": 1
        }
      ]
    },
    {
      "cell_type": "code",
      "metadata": {
        "id": "jO2HKvs_9yrl"
      },
      "source": [
        "# This code creates a virtual display to draw game images on. \n",
        "# If you are running locally, just ignore it\n",
        "import os\n",
        "if type(os.environ.get(\"DISPLAY\")) is not str or len(os.environ.get(\"DISPLAY\"))==0:\n",
        "    !bash ../xvfb start\n",
        "    %env DISPLAY=:1\n",
        "import gym\n",
        "from gym import logger as gymlogger\n",
        "from gym.wrappers import Monitor\n",
        "gymlogger.set_level(40) # error only\n",
        "import tensorflow as tf\n",
        "import numpy as np\n",
        "import random\n",
        "import matplotlib\n",
        "import matplotlib.pyplot as plt\n",
        "%matplotlib inline\n",
        "import math\n",
        "import glob\n",
        "import io\n",
        "import time\n",
        "import base64\n",
        "from IPython.display import HTML\n",
        "\n",
        "from IPython import display as ipythondisplay"
      ],
      "execution_count": 2,
      "outputs": []
    },
    {
      "cell_type": "code",
      "metadata": {
        "id": "uvagFssZ9ymA"
      },
      "source": [
        "\"\"\"\n",
        "Utility functions to enable video recording of gym environment and displaying it\n",
        "To enable video, just do \"env = wrap_env(env)\"\"\n",
        "\"\"\"\n",
        "def show_video():\n",
        "  mp4list = glob.glob('video/*.mp4')\n",
        "  if len(mp4list) > 0:\n",
        "    mp4 = mp4list[0]\n",
        "    video = io.open(mp4, 'r+b').read()\n",
        "    encoded = base64.b64encode(video)\n",
        "    ipythondisplay.display(HTML(data='''<video alt=\"test\" autoplay \n",
        "                loop controls style=\"height: 400px;\">\n",
        "                <source src=\"data:video/mp4;base64,{0}\" type=\"video/mp4\" />\n",
        "             </video>'''.format(encoded.decode('ascii'))))\n",
        "  else: \n",
        "    print(\"Could not find video\")\n",
        "    \n",
        "\n",
        "def wrap_env(env):\n",
        "  env = Monitor(env, './video', force=True)\n",
        "  return env\n"
      ],
      "execution_count": 3,
      "outputs": []
    },
    {
      "cell_type": "code",
      "metadata": {
        "id": "LYum0ENPJRQb",
        "colab": {
          "base_uri": "https://localhost:8080/",
          "height": 683
        },
        "outputId": "676736d1-08cd-4e8a-9a8c-54038c6c4eb8"
      },
      "source": [
        "##########------------------- FROZEN LAKE WITH Q LEARNING ------------------###########\n",
        "env = gym.make(\"FrozenLake-v0\", map_name='8x8', is_slippery = True)\n",
        "\n",
        "action_space_size = env.action_space.n\n",
        "state_space_size = env.observation_space.n\n",
        "q_table = np.zeros((state_space_size, action_space_size)) # Making the Q-table \n",
        "cnt = []\n",
        "data_points = []\n",
        "#print(q_table)\n",
        "num_episodes = 100000\n",
        "max_steps_per_episode = 100 #If by the one-hundredth step, the agent hasn’t reached the frisbee or fallen through a hole, then the episode will terminate with the agent receiving zero points.\n",
        "\n",
        "lr = 0.75\n",
        "discount_rate = 0.99\n",
        "exploration_rate_inc = 0\n",
        "exploration_rate = 1\n",
        "max_exploration_rate = 1\n",
        "min_exploration_rate = 0.01\n",
        "exploration_decay_rate = 0.0001492 #In time, agent will slowly exploit instead of explore\n",
        "\n",
        "rewards_all_episodes = []\n",
        "lr_array = np.linspace(lr, 1e-4, num=num_episodes)\n",
        "#--->  Q-Learning algorithm  <---\n",
        "for episode in range(num_episodes):\n",
        "  state = env.reset()\n",
        "  \n",
        "  done = False\n",
        "  rewards_current_episode = 0\n",
        "  learning_rate = lr_array[episode]\n",
        "  #for step in range(max_steps_per_episode):\n",
        "  while True:\n",
        "    # Exploration-Exploitation trade-off\n",
        "    eps_greed_decider = random.uniform(0,1)\n",
        "    if eps_greed_decider > exploration_rate:\n",
        "      action = np.argmax(q_table[state,:]) # Returns indice of maximum number in Q-table's state row's columns.\n",
        "    else:\n",
        "      action = env.action_space.sample()\n",
        "    \n",
        "    new_state,reward,done,info = env.step(action)\n",
        "\n",
        "    # Update Q-table for every new iteration of Q(s,a) using formula --> q_new(s,a) = (1-lr) * q(s,a) + lr*(new_Reward + discount * max(q(new_s, ))) \n",
        "    q_table[state,action] = q_table[state,action] * (1-learning_rate) + learning_rate * (reward + discount_rate * np.max(q_table[new_state,:]))\n",
        "\n",
        "    state = new_state\n",
        "    rewards_current_episode += reward\n",
        "\n",
        "    if done:\n",
        "      break\n",
        "  if (episode < 9000):\n",
        "    exploration_rate = min_exploration_rate + (max_exploration_rate-min_exploration_rate) * np.exp(-exploration_decay_rate * episode)  \n",
        "  elif (episode > 50000):\n",
        "    exploration_rate = min_exploration_rate + (max_exploration_rate-min_exploration_rate) * np.exp(-exploration_decay_rate * (episode-41000)) \n",
        "  rewards_all_episodes.append(rewards_current_episode)\n",
        "  \n",
        "  #if (episode % 50 == 0 and episode > 1000):\n",
        "    #learning_rate -= 0.0003786\n",
        "\n",
        "  if (episode % 10 == 0): \n",
        "    cnt.append(episode)\n",
        "    data_points.append(exploration_rate)\n",
        "    \n",
        "plt.plot(cnt,data_points)   \n",
        "rewards_per_thousand_episodes = np.split(np.array(rewards_all_episodes),num_episodes/5000)\n",
        "count = 5000\n",
        "cnt2 = 0\n",
        "prev = 0\n",
        "best = 0\n",
        "print(\"********Average reward per thousand episodes********\\n\")\n",
        "for r in rewards_per_thousand_episodes:\n",
        "  print(count, \": \", str(sum(r/5000)))\n",
        "  if (cnt2 >= 1):\n",
        "    prev = sum(rewards_per_thousand_episodes[cnt2 - 1] / 5000)\n",
        "    if (sum(r/5000) > prev):\n",
        "      best = sum(r/5000)\n",
        "  count += 5000\n",
        "  cnt2 += 1\n",
        "print(\"BEST: \" + str(best))\n"
      ],
      "execution_count": 8,
      "outputs": [
        {
          "output_type": "stream",
          "text": [
            "********Average reward per thousand episodes********\n",
            "\n",
            "5000 :  0.0059999999999999975\n",
            "10000 :  0.032199999999999916\n",
            "15000 :  0.051999999999999796\n",
            "20000 :  0.0513999999999998\n",
            "25000 :  0.061999999999999736\n",
            "30000 :  0.06879999999999992\n",
            "35000 :  0.06939999999999993\n",
            "40000 :  0.0754000000000001\n",
            "45000 :  0.08640000000000042\n",
            "50000 :  0.09120000000000056\n",
            "55000 :  0.15600000000000241\n",
            "60000 :  0.2800000000000018\n",
            "65000 :  0.368999999999992\n",
            "70000 :  0.4459999999999835\n",
            "75000 :  0.48039999999997973\n",
            "80000 :  0.5197999999999754\n",
            "85000 :  0.5543999999999716\n",
            "90000 :  0.5525999999999718\n",
            "95000 :  0.5803999999999687\n",
            "100000 :  0.595999999999967\n",
            "BEST: 0.595999999999967\n"
          ],
          "name": "stdout"
        },
        {
          "output_type": "display_data",
          "data": {
            "image/png": "[encoded data removed]",
            "text/plain": [
              "<Figure size 432x288 with 1 Axes>"
            ]
          },
          "metadata": {
            "tags": [],
            "needs_background": "light"
          }
        }
      ]
    },
    {
      "cell_type": "code",
      "metadata": {
        "id": "BR9AiAKBcVL3",
        "colab": {
          "base_uri": "https://localhost:8080/"
        },
        "outputId": "4294b088-6faa-4b3e-839b-a93cf2523e81"
      },
      "source": [
        "#print(sum(rewards_all_episodes[8000:8500]))\r\n",
        "print(lr)\r\n",
        "print(exploration_rate)\r\n",
        "#print(exploration_rate_inc)\r\n",
        "#print(q_table)\r\n",
        "#env = gym.make(\"FrozenLake-v0\", map_name='8x8', is_slippery = True)\r\n",
        "#print(env.action_space.n)\r\n",
        "#print(env.observation_space.n)\r\n",
        "num_episodes = 100000\r\n",
        "ar = np.linspace(0.75, 1e-7, num=num_episodes)\r\n",
        "print(ar[3200])"
      ],
      "execution_count": null,
      "outputs": [
        {
          "output_type": "stream",
          "text": [
            "1e-06\n",
            "0.010085168395664226\n",
            "0.7259997631976319\n"
          ],
          "name": "stdout"
        }
      ]
    },
    {
      "cell_type": "code",
      "metadata": {
        "id": "LWLk9gV4zhmk"
      },
      "source": [
        "#######----------------- BEST Q-TABLE I REACHED -------------- #########\r\n",
        "import numpy as np\r\n",
        "q_table = np.array([[0.26452294, 0.26613646, 0.26656467, 0.28013139],\r\n",
        " [0.26933106, 0.27439699, 0.29314411, 0.27652636],\r\n",
        " [0.28395002, 0.29384883, 0.31393364, 0.29720459],\r\n",
        " [0.30504765, 0.3109797,  0.3381818,  0.31892617],\r\n",
        " [0.33247853, 0.33796174, 0.36709438, 0.33847827],\r\n",
        " [0.36304827, 0.36481378, 0.39431049, 0.35597839],\r\n",
        " [0.38501954, 0.39110614, 0.4138721,  0.38250885],\r\n",
        " [0.39458281, 0.3941516,  0.4197703,  0.39215129],\r\n",
        " [0.24686283, 0.24691302, 0.25283133, 0.2761377 ],\r\n",
        " [0.26131141, 0.26114797, 0.26295562, 0.28624871],\r\n",
        " [0.2666005,  0.27981286, 0.27564178, 0.30442761],\r\n",
        " [0.1905619,  0.19437699, 0.21948393, 0.32683998],\r\n",
        " [0.3078826,  0.31883022, 0.3350329,  0.35631891],\r\n",
        " [0.35360923, 0.34844799, 0.39449457, 0.35708418],\r\n",
        " [0.39675084, 0.4018127,  0.42661244, 0.39160381],\r\n",
        " [0.40951143, 0.43859134, 0.41605558, 0.40743081],\r\n",
        " [0.20951888, 0.21586014, 0.20585094, 0.25240721],\r\n",
        " [0.20627524, 0.20016679, 0.21249881, 0.252533  ],\r\n",
        " [0.24436567, 0.12530887, 0.16440371, 0.15592645],\r\n",
        " [0.,         0.,         0.,         0.,       ],\r\n",
        " [0.19442185, 0.19875552, 0.30689173, 0.14842624],\r\n",
        " [0.23491081, 0.29782729, 0.2688668,  0.37703226],\r\n",
        " [0.40723423, 0.41911083, 0.44685703, 0.41255314],\r\n",
        " [0.44840992, 0.473201,   0.45780884, 0.44257491],\r\n",
        " [0.18284304, 0.17503981, 0.17931304, 0.22363936],\r\n",
        " [0.17124395, 0.15969083, 0.16909174, 0.21767849],\r\n",
        " [0.10124083, 0.09843858, 0.09918144, 0.18848509],\r\n",
        " [0.04155361, 0.04230855, 0.04306831, 0.12953594],\r\n",
        " [0.21411349, 0.08079812, 0.09363042, 0.09887189],\r\n",
        " [0.,         0.,         0.,         0.,       ],\r\n",
        " [0.28484071, 0.35291739, 0.46187516, 0.29039867],\r\n",
        " [0.48775843, 0.49979007, 0.52238125, 0.47038924],\r\n",
        " [0.14090196, 0.14232672, 0.14585391, 0.17235501],\r\n",
        " [0.04235531, 0.09386406, 0.09757136, 0.12196899],\r\n",
        " [0.03356048, 0.04022579, 0.02123837, 0.09891844],\r\n",
        " [0.,         0.,         0.,         0.,       ],\r\n",
        " [0.09946029, 0.15418122, 0.21318318, 0.13709581],\r\n",
        " [0.15160497, 0.28961907, 0.17208055, 0.18360036],\r\n",
        " [0.23452742, 0.24347314, 0.32989831, 0.44044039],\r\n",
        " [0.55854016, 0.53894874, 0.59780687, 0.50476727],\r\n",
        " [0.14486448, 0.07274504, 0.10101562, 0.07549308],\r\n",
        " [0.,         0.,         0.,         0.,       ],\r\n",
        " [0.,         0.,         0.,         0.,       ],\r\n",
        " [0.01265896, 0.0237676,  0.06585274, 0.00859239],\r\n",
        " [0.08231525, 0.05532724, 0.07780531, 0.16247446],\r\n",
        " [0.21883525, 0.09676195, 0.15259577, 0.1286103 ],\r\n",
        " [0.,         0.,         0.,         0.,       ],\r\n",
        " [0.49107643, 0.42842485, 0.7033427,  0.36068597],\r\n",
        " [0.12794584, 0.09655117, 0.11665131, 0.09145627],\r\n",
        " [0.,         0.,         0.,         0.,       ],\r\n",
        " [0.00270572, 0.00914939, 0.03102098, 0.00363344],\r\n",
        " [0.01240019, 0.00408433, 0.00679135, 0.02693024],\r\n",
        " [0.,         0.,         0.,         0.,       ],\r\n",
        " [0.21314803, 0.11248017, 0.10959323, 0.03352985],\r\n",
        " [0.,         0.,         0.,         0.,       ],\r\n",
        " [0.54919489, 0.66229448, 0.84634318, 0.38310199],\r\n",
        " [0.12103712, 0.11068552, 0.10772304, 0.11017812],\r\n",
        " [0.04396307, 0.07934198, 0.07102323, 0.07580173],\r\n",
        " [0.05638899, 0.0186164,  0.02164627, 0.01603856],\r\n",
        " [0.,         0.,         0.,         0.,       ],\r\n",
        " [0.05356393, 0.11674797, 0.18117365, 0.03736387],\r\n",
        " [0.19410815, 0.40036178, 0.24162139, 0.24419882],\r\n",
        " [0.44502559, 0.6887471,  0.42854506, 0.4378356 ],\r\n",
        " [0.,         0.,         0.,         0.,       ]])"
      ],
      "execution_count": null,
      "outputs": []
    },
    {
      "cell_type": "code",
      "metadata": {
        "id": "_xhWieYGMDZ-",
        "colab": {
          "base_uri": "https://localhost:8080/"
        },
        "outputId": "3093f2fb-9366-4261-8aee-0924f3cbc13a"
      },
      "source": [
        "#------------ Watch Agent Through Learned Q-Table ------------------#\r\n",
        "env = gym.make(\"FrozenLake-v0\", map_name='8x8' , is_slippery = True)\r\n",
        "from IPython.display import clear_output\r\n",
        "counter = 0\r\n",
        "for episode in range(5):\r\n",
        "  state = env.reset()\r\n",
        "  done = False\r\n",
        "  print(\" EPISODE: \", episode + 1, \" \\n\\n\\n\\n\")\r\n",
        "  time.sleep(1)\r\n",
        "  \r\n",
        "  #for step in range(max_steps_per_episode):\r\n",
        "  while True:\r\n",
        "    clear_output(wait=True)\r\n",
        "    env.render()\r\n",
        "    time.sleep(0.1)\r\n",
        "\r\n",
        "    action = np.argmax(q_table[state,:])\r\n",
        "    new_state, reward, done, info = env.step(action)\r\n",
        "  \r\n",
        "    if done:\r\n",
        "      clear_output(wait = True)\r\n",
        "      env.render()\r\n",
        "      if reward == 1:\r\n",
        "        counter += 1\r\n",
        "        print(\"******* Reached The Goal ********\")\r\n",
        "        time.sleep(3)\r\n",
        "      else:\r\n",
        "        print(\"******* Fell Through a Hole ********\")\r\n",
        "        time.sleep(3)\r\n",
        "      clear_output(wait = True)\r\n",
        "      break\r\n",
        "\r\n",
        "    state = new_state\r\n",
        "\r\n",
        "  print(\"Won: \",counter,\" out of 5\" )\r\n",
        "\r\n",
        "env.close()\r\n"
      ],
      "execution_count": null,
      "outputs": [
        {
          "output_type": "stream",
          "text": [
            "Won:  2  out of 5\n"
          ],
          "name": "stdout"
        }
      ]
    },
    {
      "cell_type": "code",
      "metadata": {
        "id": "4o5xkPEJtVjn",
        "colab": {
          "base_uri": "https://localhost:8080/",
          "height": 283
        },
        "outputId": "9df9d1ec-a452-4a1b-df32-683ed214a2c0"
      },
      "source": [
        "#######------------------ TO TEST THE CURVE OF EXPLORATION RATE DECAY ------------------######\n",
        "exploration_rate = 1\n",
        "exploration_rate_inc = 0\n",
        "max_exploration_rate = 1\n",
        "min_exploration_rate = 0.01\n",
        "exploration_decay_rate = 0.0001442\n",
        "cnt = []\n",
        "data_points = []\n",
        "for episode in range(100000):\n",
        "  exploration_rate = min_exploration_rate + (max_exploration_rate-min_exploration_rate) * np.exp(-exploration_decay_rate * episode)\n",
        "\n",
        "  if (episode % 5 == 0): \n",
        "    cnt.append(episode)\n",
        "    data_points.append(exploration_rate)\n",
        "plt.plot(cnt,data_points)    "
      ],
      "execution_count": null,
      "outputs": [
        {
          "output_type": "execute_result",
          "data": {
            "text/plain": [
              "[<matplotlib.lines.Line2D at 0x7fe82a5fb240>]"
            ]
          },
          "metadata": {
            "tags": []
          },
          "execution_count": 7
        },
        {
          "output_type": "display_data",
          "data": {
            "image/png": "[encoded data removed]",
            "text/plain": [
              "<Figure size 432x288 with 1 Axes>"
            ]
          },
          "metadata": {
            "tags": [],
            "needs_background": "light"
          }
        }
      ]
    },
    {
      "cell_type": "code",
      "metadata": {
        "id": "GrJRqy3x9yiI"
      },
      "source": [
        "##########------------------- A BASIC INTRODUCTION TO PRIMITIVE REINFORCEMENT LEARNING ------------------###########\n",
        "env = gym.make('CartPole-v0')\n",
        "bestLength = 0\n",
        "episode_lengths = []\n",
        "best_weigths = np.zeros(4)\n",
        "for i in range(100):\n",
        "  new_weigths =  np.random.uniform(-1, 1, 4)\n",
        "  length = []\n",
        "#-- INITIALIZE WITH RANDOM WEIGTHS 100 TIMES --#\n",
        "  for j in range(100):\n",
        "    observation = env.reset()\n",
        "    done = False\n",
        "    cnt = 0\n",
        "#-- PLAY THE GAME 10000 TIME --#   \n",
        "    while True:\n",
        "      cnt += 1\n",
        "      action = 1 if np.dot(observation, new_weigths) > 0 else 0 \n",
        "      observation, reward, done, info = env.step(action) \n",
        "      if done: \n",
        "        break\n",
        "    length.append(cnt)  \n",
        "#-----------------------------#  \n",
        "  average_length = float(sum(length) / len(length))\n",
        "  if average_length > bestLength:\n",
        "    bestLength = average_length\n",
        "    best_weigths = new_weigths   \n",
        "  episode_lengths.append(average_length) \n",
        "  if i % 10 == 0:\n",
        "    print('best length is ', bestLength)\n",
        "\n",
        "done = False\n",
        "cnt = 0\n",
        "env = wrap_env(env)\n",
        "observation = env.reset()\n",
        "while True:\n",
        "    env.render()\n",
        "    cnt += 1\n",
        "    action = 1 if np.dot(observation, best_weigths) > 0 else 0 \n",
        "    observation, reward, done, info = env.step(action)\n",
        "    if done: \n",
        "      break\n",
        "\n",
        "env.close()\n",
        "show_video()"
      ],
      "execution_count": null,
      "outputs": []
    }
  ]
}